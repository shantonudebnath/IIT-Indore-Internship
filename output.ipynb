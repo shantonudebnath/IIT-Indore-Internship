{
 "cells": [
  {
   "cell_type": "code",
   "execution_count": 1,
   "metadata": {},
   "outputs": [],
   "source": [
    "import pickle"
   ]
  },
  {
   "cell_type": "code",
   "execution_count": 2,
   "metadata": {},
   "outputs": [],
   "source": [
    "m1=\"module.pickle\""
   ]
  },
  {
   "cell_type": "code",
   "execution_count": 3,
   "metadata": {},
   "outputs": [],
   "source": [
    "a=pickle.load(open(m1,\"rb\"))"
   ]
  },
  {
   "cell_type": "code",
   "execution_count": null,
   "metadata": {},
   "outputs": [
    {
     "name": "stdout",
     "output_type": "stream",
     "text": [
      "enter the bedroom:132\n",
      "---------------------------------------\n",
      "enter the bathroom:2\n",
      "---------------------------------------\n",
      "enter the sqft_living:64\n",
      "---------------------------------------\n",
      "enter the sqft_lot:565\n",
      "---------------------------------------\n",
      "enter the floors:2\n",
      "---------------------------------------\n",
      "enter the waterfront:45\n",
      "---------------------------------------\n",
      "enter the sqft_above:748\n",
      "---------------------------------------\n",
      "enter the sqft_basement:14\n",
      "---------------------------------------\n"
     ]
    }
   ],
   "source": [
    "aa=int(input(\"enter the bedroom:\"))\n",
    "print(\"---------------------------------------\")\n",
    "bb=int(input(\"enter the bathroom:\"))\n",
    "print(\"---------------------------------------\")\n",
    "cc=int(input(\"enter the sqft_living:\"))\n",
    "print(\"---------------------------------------\")\n",
    "dd=int(input(\"enter the sqft_lot:\"))\n",
    "print(\"---------------------------------------\")\n",
    "ee=int(input(\"enter the floors:\"))\n",
    "print(\"---------------------------------------\")\n",
    "ff=int(input(\"enter the waterfront:\"))\n",
    "print(\"---------------------------------------\")\n",
    "gg=int(input(\"enter the sqft_above:\"))\n",
    "print(\"---------------------------------------\")\n",
    "hh=int(input(\"enter the sqft_basement:\"))\n",
    "print(\"---------------------------------------\")                          \n",
    "ii=int(input(\"enter the yr_built:\"))\n",
    "print(\"---------------------------------------\")\n",
    "s=a.predict([[aa,bb,cc,dd,ee,ff,gg,hh,ii]])\n",
    "print(\"the price of the house:{0}\".format(s[0]))"
   ]
  },
  {
   "cell_type": "code",
   "execution_count": null,
   "metadata": {},
   "outputs": [],
   "source": []
  },
  {
   "cell_type": "code",
   "execution_count": null,
   "metadata": {},
   "outputs": [],
   "source": []
  }
 ],
 "metadata": {
  "kernelspec": {
   "display_name": "Python 3 (ipykernel)",
   "language": "python",
   "name": "python3"
  },
  "language_info": {
   "codemirror_mode": {
    "name": "ipython",
    "version": 3
   },
   "file_extension": ".py",
   "mimetype": "text/x-python",
   "name": "python",
   "nbconvert_exporter": "python",
   "pygments_lexer": "ipython3",
   "version": "3.9.7"
  }
 },
 "nbformat": 4,
 "nbformat_minor": 2
}
